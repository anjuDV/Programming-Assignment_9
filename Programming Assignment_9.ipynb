{
 "cells": [
  {
   "cell_type": "markdown",
   "id": "47b9bb99",
   "metadata": {},
   "source": [
    "## Programming Assignment_9\n",
    "----------------"
   ]
  },
  {
   "cell_type": "markdown",
   "id": "c725f7a9",
   "metadata": {},
   "source": [
    "### 1. Write a Python program to check if the given number is a Disarium Number?"
   ]
  },
  {
   "cell_type": "code",
   "execution_count": null,
   "id": "078428b4",
   "metadata": {
    "vscode": {
     "languageId": "plaintext"
    }
   },
   "outputs": [],
   "source": [
    "def calculate_lenght(n):\n",
    "  lenght = 0;\n",
    "  while(n != 0):\n",
    "     lenght = lenght + 1;\n",
    "     n = n//10;\n",
    "  return lenght;\n",
    "\n",
    "num = 180\n",
    "rem = sum = 0;\n",
    "len = calculate_lenght(num);\n",
    "\n",
    "n = num\n",
    "while(num > 0)\n",
    "   rem = num%10;\n",
    "   sum = sum + int(rem**len);\n",
    "   num = num//10;\n",
    "   len = len -1;\n",
    "\n",
    "if(sum == n):\n",
    "   print(str(n) + \"is disarium number\")\n",
    "else\n",
    "   print(str(n) + \"is not disarium number\")   \n"
   ]
  },
  {
   "cell_type": "markdown",
   "id": "f0064401",
   "metadata": {},
   "source": [
    "### 2. Write a Python program to print all disarium numbers between 1 to 100?"
   ]
  },
  {
   "cell_type": "code",
   "execution_count": null,
   "id": "91e115d5",
   "metadata": {
    "vscode": {
     "languageId": "plaintext"
    }
   },
   "outputs": [],
   "source": [
    "def disarium(num):\n",
    "   sum = 0\n",
    "   while(num>0):\n",
    "      l = len(str(num))\n",
    "      no = num%10\n",
    "      sum = sum + no**1\n",
    "      l-=1\n",
    "      num = num//10\n",
    "   return sum\n",
    "\n",
    "print(\"disarium no in range 1 to 100\") \n",
    "disno = []\n",
    "for i in range(1,101):\n",
    "    sum = 0\n",
    "    sum = disarium(i)\n",
    "    if sum == i\n",
    "        disno.append(i)     \n",
    "print(disno)  \n",
    "      \n",
    "\n"
   ]
  },
  {
   "cell_type": "markdown",
   "id": "31df1e4a",
   "metadata": {},
   "source": [
    "### 3. Write a Python program to check if the given number is Happy Number?"
   ]
  },
  {
   "cell_type": "code",
   "execution_count": null,
   "id": "1aa0678a",
   "metadata": {
    "vscode": {
     "languageId": "plaintext"
    }
   },
   "outputs": [],
   "source": [
    "def Happy(num):\n",
    "    sum = 0\n",
    "    while(num>0):\n",
    "         dig = num%10\n",
    "         sum = sum + dig**2\n",
    "         num = num//10\n",
    "    return sum\n",
    "num = int(input(\"enter the number :\"))\n",
    "result = num\n",
    "while (result != 1 and result != 4):\n",
    "   result = Happy(result)\n",
    "\n",
    "if result == 1;\n",
    "   print(num,\"is a Happy number\")\n",
    "else\n",
    "print(num,\"is a unhappy number\")   \n"
   ]
  },
  {
   "cell_type": "markdown",
   "id": "51b265e3",
   "metadata": {},
   "source": [
    "### 4. Write a Python program to print all happy numbers between 1 and 100?"
   ]
  },
  {
   "cell_type": "code",
   "execution_count": null,
   "id": "cd6ec0bf",
   "metadata": {
    "vscode": {
     "languageId": "plaintext"
    }
   },
   "outputs": [],
   "source": [
    "def Happy(num):\n",
    "    sum = 0\n",
    "    while(num>0):\n",
    "         dig = num%10\n",
    "         sum = sum + dig**2\n",
    "         num = num//10\n",
    "    return sum\n",
    "print(\"Happy number in range 1 to 100\")\n",
    "result=num=i=0\n",
    "HappyNo = []\n",
    "for i in range(1,101):\n",
    "     result = i \n",
    "     while (result != 1 and result != 4):\n",
    "         result = Happy(result)\n",
    "     if result == 1:\n",
    "        HappyNo.append(i)\n",
    "print(HappyNo)            \n"
   ]
  },
  {
   "cell_type": "markdown",
   "id": "6a190ee0",
   "metadata": {},
   "source": [
    "### 5. Write a Python program to determine whether the given number is a Harshad Number?"
   ]
  },
  {
   "cell_type": "code",
   "execution_count": null,
   "id": "74d012d3",
   "metadata": {
    "vscode": {
     "languageId": "plaintext"
    }
   },
   "outputs": [],
   "source": [
    "def digsum(num):\n",
    "     sum = 0\n",
    "     while(num>0):\n",
    "           dig = num%10\n",
    "           sum = sum + dig\n",
    "           num = num//10\n",
    "      return sum\n",
    "num = int(input(\"enter no.:\"))\n",
    "sum = digsum\n",
    "if num % sum == 0:\n",
    "    print(num,\"Is a harshad number\")\n",
    "else\n",
    "    print(num,\"Is not a harshad number\")               \n"
   ]
  },
  {
   "cell_type": "markdown",
   "id": "7a7ea92e",
   "metadata": {},
   "source": [
    "### 6. Write a Python program to print all pronic numbers between 1 and 100?"
   ]
  },
  {
   "cell_type": "code",
   "execution_count": null,
   "id": "58e0f34a",
   "metadata": {
    "vscode": {
     "languageId": "plaintext"
    }
   },
   "outputs": [],
   "source": [
    "def pronic_no(num):\n",
    "    pronic = false\n",
    "    for i in range (1,num+1):\n",
    "         if i*(i+1) == num:\n",
    "             pronic = true\n",
    "             break\n",
    "    return pronic\n",
    "print(\"pronic number in range 1 to 100) \n",
    "pronic_no = []\n",
    "for i in range(1,101):\n",
    "    if pronic_no(i):\n",
    "        pronic_no.append(i)\n",
    "print(pronic_no)                    "
   ]
  }
 ],
 "metadata": {
  "kernelspec": {
   "display_name": "Python 3 (ipykernel)",
   "language": "python",
   "name": "python3"
  },
  "language_info": {
   "codemirror_mode": {
    "name": "ipython",
    "version": 3
   },
   "file_extension": ".py",
   "mimetype": "text/x-python",
   "name": "python",
   "nbconvert_exporter": "python",
   "pygments_lexer": "ipython3",
   "version": "3.9.12"
  }
 },
 "nbformat": 4,
 "nbformat_minor": 5
}
